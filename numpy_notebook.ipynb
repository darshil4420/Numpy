{
 "cells": [
  {
   "cell_type": "markdown",
   "id": "09d3b4cb-897a-4d7b-8e4b-69f69b403cd6",
   "metadata": {},
   "source": [
    "# Numpy"
   ]
  },
  {
   "cell_type": "code",
   "execution_count": 8,
   "id": "702422d1-f020-457f-9a68-a28f6a1ef1ac",
   "metadata": {},
   "outputs": [],
   "source": [
    "import numpy as np"
   ]
  },
  {
   "cell_type": "markdown",
   "id": "7129ecc6-1a3d-4795-8077-777558a5b849",
   "metadata": {},
   "source": [
    "# Create One Dimension Array"
   ]
  },
  {
   "cell_type": "code",
   "execution_count": 9,
   "id": "a2971d89-0ac9-41b0-8682-b308d10de32e",
   "metadata": {},
   "outputs": [
    {
     "data": {
      "text/plain": [
       "array([1, 2, 3, 4])"
      ]
     },
     "execution_count": 9,
     "metadata": {},
     "output_type": "execute_result"
    }
   ],
   "source": [
    "one_dim_array = np.array([1,2,3,4])\n",
    "one_dim_array"
   ]
  },
  {
   "cell_type": "markdown",
   "id": "168a2916-5720-41ca-b834-6282bfbb3460",
   "metadata": {},
   "source": [
    "# Create Two Dimension Array"
   ]
  },
  {
   "cell_type": "code",
   "execution_count": 10,
   "id": "97629a06-2f58-42b4-9e8e-ef0e22524bf5",
   "metadata": {},
   "outputs": [
    {
     "data": {
      "text/plain": [
       "array([[1, 2, 3],\n",
       "       [4, 5, 6]])"
      ]
     },
     "execution_count": 10,
     "metadata": {},
     "output_type": "execute_result"
    }
   ],
   "source": [
    "two_dim_array = np.array([[1,2,3],[4,5,6]])\n",
    "two_dim_array"
   ]
  },
  {
   "cell_type": "markdown",
   "id": "630ad252-56fc-49b6-b68c-5468a96e8ebc",
   "metadata": {},
   "source": [
    "# Get Dimension of Array"
   ]
  },
  {
   "cell_type": "code",
   "execution_count": 11,
   "id": "78e78a17-b407-4857-bcc8-ea8750d5a56f",
   "metadata": {},
   "outputs": [
    {
     "data": {
      "text/plain": [
       "2"
      ]
     },
     "execution_count": 11,
     "metadata": {},
     "output_type": "execute_result"
    }
   ],
   "source": [
    "two_dim_array.ndim"
   ]
  },
  {
   "cell_type": "markdown",
   "id": "9c6cb076-cd66-4d59-aa3d-ef615633d99f",
   "metadata": {},
   "source": [
    "# Get Size of Array"
   ]
  },
  {
   "cell_type": "code",
   "execution_count": 12,
   "id": "bc084a0a-3fc2-477c-b6be-2e25ff0611f3",
   "metadata": {},
   "outputs": [
    {
     "data": {
      "text/plain": [
       "6"
      ]
     },
     "execution_count": 12,
     "metadata": {},
     "output_type": "execute_result"
    }
   ],
   "source": [
    "two_dim_array.size"
   ]
  },
  {
   "cell_type": "markdown",
   "id": "74a17755-ab06-40d4-908f-e95d41cf5485",
   "metadata": {},
   "source": [
    "# Get Shape of Array"
   ]
  },
  {
   "cell_type": "code",
   "execution_count": 6,
   "id": "c11f9742-b882-40bb-8f66-1250c4677301",
   "metadata": {},
   "outputs": [
    {
     "data": {
      "text/plain": [
       "(2, 3)"
      ]
     },
     "execution_count": 6,
     "metadata": {},
     "output_type": "execute_result"
    }
   ],
   "source": [
    "two_dim_array.shape"
   ]
  },
  {
   "cell_type": "markdown",
   "id": "c06310b1-86e9-489e-8aed-7a341a9862c6",
   "metadata": {},
   "source": [
    "# What is difference between dimension, size and shape of numpy array?\n",
    "\n",
    "## `ndarray.ndim` will tell you the number of axes, or dimensions, of the array.\n",
    "\n",
    "## `ndarray.size` will tell you the total number of elements of the array. This is the product of the elements of the array’s shape.\n",
    "\n",
    "## `ndarray.shape` will display a tuple of integers that indicate the number of elements stored along each dimension of the array. If, for example, here in the above example, we have 2D array with 2 rows and 3 columns which means the shape would be (2,3) "
   ]
  },
  {
   "cell_type": "markdown",
   "id": "e0b17130-6c73-46a7-a027-e1897ce40a6a",
   "metadata": {},
   "source": [
    "### Here, the `shape` returns a tupple which means we can get rows and columns of an array by tupple assignment"
   ]
  },
  {
   "cell_type": "code",
   "execution_count": 7,
   "id": "31cb3354-f2be-4eb8-81c2-ff1b3566d9a2",
   "metadata": {},
   "outputs": [
    {
     "data": {
      "text/plain": [
       "3"
      ]
     },
     "execution_count": 7,
     "metadata": {},
     "output_type": "execute_result"
    }
   ],
   "source": [
    "rows, columns = two_dim_array.shape\n",
    "columns "
   ]
  },
  {
   "cell_type": "markdown",
   "id": "4f968fbf-a75e-42b9-b6c8-f4df81c4ceac",
   "metadata": {},
   "source": [
    "### One thing to note is that there is basic difference between python list and numpy\n",
    "### In python, everything is object even list too. Which results in more memory. Where as numpy stores the elements in contigious memory address just like C. Also, numpy only allows homogeneous data\n",
    "### More difference can be found [here](https://www.geeksforgeeks.org/python-lists-vs-numpy-arrays/)"
   ]
  },
  {
   "cell_type": "markdown",
   "id": "3518ad98-eb4e-4511-b631-2db9950cb305",
   "metadata": {},
   "source": [
    "## Get itemsize of numpy array"
   ]
  },
  {
   "cell_type": "code",
   "execution_count": 8,
   "id": "4e7b0428-cee1-42da-a5e3-51b4b27cebbe",
   "metadata": {},
   "outputs": [
    {
     "data": {
      "text/plain": [
       "8"
      ]
     },
     "execution_count": 8,
     "metadata": {},
     "output_type": "execute_result"
    }
   ],
   "source": [
    "one_dim_array.itemsize"
   ]
  },
  {
   "cell_type": "code",
   "execution_count": 9,
   "id": "c1fce1df-d752-4aee-ba45-034766c18ed8",
   "metadata": {},
   "outputs": [
    {
     "data": {
      "text/plain": [
       "dtype('int64')"
      ]
     },
     "execution_count": 9,
     "metadata": {},
     "output_type": "execute_result"
    }
   ],
   "source": [
    "one_dim_array.dtype"
   ]
  },
  {
   "cell_type": "markdown",
   "id": "778dac8c-f6ed-4d0f-8424-9fae3a28d15e",
   "metadata": {},
   "source": [
    "### Complex numbers plays pivotal role in mathematical computation.Numpy allows to create arrays with numpy data type"
   ]
  },
  {
   "cell_type": "code",
   "execution_count": 10,
   "id": "af2475ee-3d88-45e2-9fdd-f784e946d89d",
   "metadata": {},
   "outputs": [
    {
     "data": {
      "text/plain": [
       "array([[1.+0.j, 2.+0.j],\n",
       "       [3.+0.j, 4.+0.j]])"
      ]
     },
     "execution_count": 10,
     "metadata": {},
     "output_type": "execute_result"
    }
   ],
   "source": [
    "complex_array = np.array([[1,2],[3,4]],dtype=complex)\n",
    "complex_array"
   ]
  },
  {
   "cell_type": "markdown",
   "id": "1280ce4a-30dd-4997-8e58-053e2cacedab",
   "metadata": {},
   "source": [
    "## Numpy allows to create array with all zeros and ones"
   ]
  },
  {
   "cell_type": "code",
   "execution_count": 11,
   "id": "78260617-e387-4494-bf5f-80272ad49dff",
   "metadata": {},
   "outputs": [
    {
     "data": {
      "text/plain": [
       "array([[0., 0., 0., 0.],\n",
       "       [0., 0., 0., 0.],\n",
       "       [0., 0., 0., 0.]])"
      ]
     },
     "execution_count": 11,
     "metadata": {},
     "output_type": "execute_result"
    }
   ],
   "source": [
    "zeros_array = np.zeros((3,4))\n",
    "zeros_array"
   ]
  },
  {
   "cell_type": "markdown",
   "id": "78365ef6-f73c-4510-ba7f-d8349af1474e",
   "metadata": {},
   "source": [
    "## Python provides native range(). Similarly, numpy provides arange(). "
   ]
  },
  {
   "cell_type": "code",
   "execution_count": 12,
   "id": "3286103e-9307-4a51-bbca-dd97d6f2e4b9",
   "metadata": {},
   "outputs": [
    {
     "data": {
      "text/plain": [
       "array([0, 1, 2, 3, 4])"
      ]
     },
     "execution_count": 12,
     "metadata": {},
     "output_type": "execute_result"
    }
   ],
   "source": [
    "a = np.arange(0,5)\n",
    "a"
   ]
  },
  {
   "cell_type": "code",
   "execution_count": 13,
   "id": "05a3a2ab-18f6-4718-8e01-77b4fd64fd89",
   "metadata": {},
   "outputs": [
    {
     "data": {
      "text/plain": [
       "array([0, 2, 4])"
      ]
     },
     "execution_count": 13,
     "metadata": {},
     "output_type": "execute_result"
    }
   ],
   "source": [
    "a = np.arange(0,5,2)\n",
    "a"
   ]
  },
  {
   "cell_type": "markdown",
   "id": "a072ef84-01c3-4dbc-b29a-bfaadf1e61b0",
   "metadata": {},
   "source": [
    "## linspace() allows to get a numpy array of linearly spaced elements between two numbers. \n",
    "## linspace(start,end,no_of_elements)"
   ]
  },
  {
   "cell_type": "code",
   "execution_count": 14,
   "id": "e1823a0f-e2b9-4720-b75e-98f341902818",
   "metadata": {},
   "outputs": [
    {
     "data": {
      "text/plain": [
       "array([ 1.,  2.,  3.,  4.,  5.,  6.,  7.,  8.,  9., 10.])"
      ]
     },
     "execution_count": 14,
     "metadata": {},
     "output_type": "execute_result"
    }
   ],
   "source": [
    "a = np.linspace(1,10,10)\n",
    "a"
   ]
  },
  {
   "cell_type": "code",
   "execution_count": 15,
   "id": "db48436c-21b9-4c8f-8d4e-b2c55a2f7bf7",
   "metadata": {},
   "outputs": [
    {
     "data": {
      "text/plain": [
       "array([ 1.        ,  1.47368421,  1.94736842,  2.42105263,  2.89473684,\n",
       "        3.36842105,  3.84210526,  4.31578947,  4.78947368,  5.26315789,\n",
       "        5.73684211,  6.21052632,  6.68421053,  7.15789474,  7.63157895,\n",
       "        8.10526316,  8.57894737,  9.05263158,  9.52631579, 10.        ])"
      ]
     },
     "execution_count": 15,
     "metadata": {},
     "output_type": "execute_result"
    }
   ],
   "source": [
    "a = np.linspace(1,10,20)\n",
    "a"
   ]
  },
  {
   "cell_type": "markdown",
   "id": "5033b505-891d-43b3-9d2f-5b8e14007842",
   "metadata": {},
   "source": [
    "## Reshape array"
   ]
  },
  {
   "cell_type": "code",
   "execution_count": 16,
   "id": "a6929c9b-f180-4f5c-a0ca-e5aa9e06899f",
   "metadata": {},
   "outputs": [
    {
     "data": {
      "text/plain": [
       "(2, 3)"
      ]
     },
     "execution_count": 16,
     "metadata": {},
     "output_type": "execute_result"
    }
   ],
   "source": [
    "two_dim_array.shape"
   ]
  },
  {
   "cell_type": "code",
   "execution_count": 17,
   "id": "c802cef3-2c93-4bd2-9504-1dd8b2153d34",
   "metadata": {},
   "outputs": [
    {
     "data": {
      "text/plain": [
       "array([[1, 2],\n",
       "       [3, 4],\n",
       "       [5, 6]])"
      ]
     },
     "execution_count": 17,
     "metadata": {},
     "output_type": "execute_result"
    }
   ],
   "source": [
    "two_dim_array.reshape(3,2)"
   ]
  },
  {
   "cell_type": "markdown",
   "id": "ab1e3192-7da7-4f36-a48e-b3ecebe9dec3",
   "metadata": {},
   "source": [
    "## Sometimes while tinktering with data, we want to convert the numpy array to 1D array. Numpy provides two functions ravel() and flatten().\n",
    "## [here](https://www.linkedin.com/pulse/numpy-difference-between-flatten-raveal-yeshwanth-n/) is the main deference between these two functions"
   ]
  },
  {
   "cell_type": "code",
   "execution_count": 18,
   "id": "8943dbb6-19fa-4f76-9007-0fe9ad254def",
   "metadata": {},
   "outputs": [
    {
     "data": {
      "text/plain": [
       "array([1, 2, 3, 4, 5, 6])"
      ]
     },
     "execution_count": 18,
     "metadata": {},
     "output_type": "execute_result"
    }
   ],
   "source": [
    "two_dim_array.ravel()"
   ]
  },
  {
   "cell_type": "code",
   "execution_count": 19,
   "id": "d102e374-e4f1-4769-a8ed-5863e7f807ef",
   "metadata": {},
   "outputs": [
    {
     "data": {
      "text/plain": [
       "array([1, 2, 3, 4, 5, 6])"
      ]
     },
     "execution_count": 19,
     "metadata": {},
     "output_type": "execute_result"
    }
   ],
   "source": [
    "two_dim_array.flatten()"
   ]
  },
  {
   "cell_type": "code",
   "execution_count": 20,
   "id": "f30f2269-069d-4787-84eb-2bcb911d47cf",
   "metadata": {},
   "outputs": [
    {
     "data": {
      "text/plain": [
       "array([[1, 2, 3],\n",
       "       [4, 5, 6]])"
      ]
     },
     "execution_count": 20,
     "metadata": {},
     "output_type": "execute_result"
    }
   ],
   "source": [
    "two_dim_array"
   ]
  },
  {
   "cell_type": "markdown",
   "id": "63476de5-b047-4463-8f85-680561595065",
   "metadata": {},
   "source": [
    "## numpy supports basic operations on array like min,max and sum of array"
   ]
  },
  {
   "cell_type": "code",
   "execution_count": 21,
   "id": "3169d909-7874-469b-8966-93f10f419a5e",
   "metadata": {},
   "outputs": [
    {
     "data": {
      "text/plain": [
       "1"
      ]
     },
     "execution_count": 21,
     "metadata": {},
     "output_type": "execute_result"
    }
   ],
   "source": [
    "two_dim_array.min()"
   ]
  },
  {
   "cell_type": "code",
   "execution_count": 22,
   "id": "06fb092d-17a5-49b1-a084-5a5ad47fd96d",
   "metadata": {},
   "outputs": [
    {
     "data": {
      "text/plain": [
       "6"
      ]
     },
     "execution_count": 22,
     "metadata": {},
     "output_type": "execute_result"
    }
   ],
   "source": [
    "two_dim_array.max()"
   ]
  },
  {
   "cell_type": "code",
   "execution_count": 23,
   "id": "53c0b2a4-d877-4365-9e58-50e8f645bcbe",
   "metadata": {},
   "outputs": [
    {
     "data": {
      "text/plain": [
       "array([5, 7, 9])"
      ]
     },
     "execution_count": 23,
     "metadata": {},
     "output_type": "execute_result"
    }
   ],
   "source": [
    "# axis 0 returns sum of all elements on column side. As we have (2,3) array, \n",
    "# we will get an array with 3 elements of summation of elements on column side\n",
    "two_dim_array.sum(axis=0)"
   ]
  },
  {
   "cell_type": "code",
   "execution_count": 24,
   "id": "d1f6959b-9009-4462-8b2f-7fe7d617b5af",
   "metadata": {},
   "outputs": [
    {
     "data": {
      "text/plain": [
       "array([ 6, 15])"
      ]
     },
     "execution_count": 24,
     "metadata": {},
     "output_type": "execute_result"
    }
   ],
   "source": [
    "# axis 1 returns sum of all elements on row side. As we have (2,3) array, \n",
    "# we will get an array with 2 elements of summation of elements on row side\n",
    "two_dim_array.sum(axis=1)"
   ]
  },
  {
   "cell_type": "markdown",
   "id": "08c03f05-2270-4557-b852-1cb71d121804",
   "metadata": {},
   "source": [
    "## Numpy allows mathematical operations on array like sqrt, standard deviation etc. \n",
    "https://numpy.org/doc/stable/reference/routines.math.html"
   ]
  },
  {
   "cell_type": "markdown",
   "id": "60438d16-3a5d-4ea7-a717-99fd833ee42c",
   "metadata": {},
   "source": [
    "## Numpy allows some other operations like summation, multiplying and matrix multiplication as well\n",
    "## For basic operation of add and etc, the shape of two arrays should be same or the arrays should have similarity of broadcasting"
   ]
  },
  {
   "cell_type": "code",
   "execution_count": 25,
   "id": "b40e557f-1427-4da1-bbe9-dfcdb1da1e11",
   "metadata": {},
   "outputs": [],
   "source": [
    "a = np.array([[1,2,3],[5,6,7]])\n",
    "b= np.array([[5,8,3],[2,3,7]])"
   ]
  },
  {
   "cell_type": "code",
   "execution_count": 26,
   "id": "8a32e9bd-23c0-4281-afc7-50fed9d0c060",
   "metadata": {},
   "outputs": [
    {
     "data": {
      "text/plain": [
       "array([[ 6, 10,  6],\n",
       "       [ 7,  9, 14]])"
      ]
     },
     "execution_count": 26,
     "metadata": {},
     "output_type": "execute_result"
    }
   ],
   "source": [
    "a+b"
   ]
  },
  {
   "cell_type": "code",
   "execution_count": 27,
   "id": "c9ad96e2-4945-40f1-81c0-20bbbd023c40",
   "metadata": {},
   "outputs": [
    {
     "data": {
      "text/plain": [
       "array([[-4, -6,  0],\n",
       "       [ 3,  3,  0]])"
      ]
     },
     "execution_count": 27,
     "metadata": {},
     "output_type": "execute_result"
    }
   ],
   "source": [
    "a-b"
   ]
  },
  {
   "cell_type": "code",
   "execution_count": 28,
   "id": "ce176fd3-d7f7-4716-b67f-84bd10cef1ae",
   "metadata": {},
   "outputs": [
    {
     "data": {
      "text/plain": [
       "array([[ 5, 16,  9],\n",
       "       [10, 18, 49]])"
      ]
     },
     "execution_count": 28,
     "metadata": {},
     "output_type": "execute_result"
    }
   ],
   "source": [
    "a*b"
   ]
  },
  {
   "cell_type": "code",
   "execution_count": 29,
   "id": "6bd81433-cf89-4d3c-8671-2a603c4a569d",
   "metadata": {},
   "outputs": [
    {
     "data": {
      "text/plain": [
       "array([[0.2 , 0.25, 1.  ],\n",
       "       [2.5 , 2.  , 1.  ]])"
      ]
     },
     "execution_count": 29,
     "metadata": {},
     "output_type": "execute_result"
    }
   ],
   "source": [
    "a/b"
   ]
  },
  {
   "cell_type": "markdown",
   "id": "fa082e52-75c5-44f0-874e-9c3a09511b0b",
   "metadata": {},
   "source": [
    "## Numpy allows operation with scalars as well"
   ]
  },
  {
   "cell_type": "code",
   "execution_count": 30,
   "id": "7762b323-c8d5-486f-95d1-d7eafe2f7e80",
   "metadata": {},
   "outputs": [
    {
     "data": {
      "text/plain": [
       "array([[ 5,  6,  7],\n",
       "       [ 9, 10, 11]])"
      ]
     },
     "execution_count": 30,
     "metadata": {},
     "output_type": "execute_result"
    }
   ],
   "source": [
    "a+4"
   ]
  },
  {
   "cell_type": "code",
   "execution_count": 31,
   "id": "80113bc5-5ba6-4d34-806d-fc6b7846e777",
   "metadata": {},
   "outputs": [
    {
     "data": {
      "text/plain": [
       "array([[ 6, 12, 18],\n",
       "       [30, 36, 42]])"
      ]
     },
     "execution_count": 31,
     "metadata": {},
     "output_type": "execute_result"
    }
   ],
   "source": [
    "a*6"
   ]
  },
  {
   "cell_type": "markdown",
   "id": "951d31fc-cbc7-4643-9017-67b05e222f30",
   "metadata": {},
   "source": [
    "## Let's get an understanding about how Numpy allows operations on [broadcasting](https://numpy.org/doc/stable/user/basics.broadcasting.html) similarites of array"
   ]
  },
  {
   "cell_type": "code",
   "execution_count": 32,
   "id": "fd23a1e8-2ba4-42fc-910a-4ef16cf1ea11",
   "metadata": {},
   "outputs": [
    {
     "data": {
      "text/plain": [
       "array([[ 2,  4, 12],\n",
       "       [ 6,  8, 16]])"
      ]
     },
     "execution_count": 32,
     "metadata": {},
     "output_type": "execute_result"
    }
   ],
   "source": [
    "a+np.array([1,2,9])"
   ]
  },
  {
   "cell_type": "code",
   "execution_count": 33,
   "id": "0d02e025-178b-4ee8-b5cd-198ce0b9628d",
   "metadata": {},
   "outputs": [],
   "source": [
    "# This won't be allowed as the shape of [1,2] which is (2,) not broadcastable with (2,3)\n",
    "# Uncommenting this will give error\n",
    "# a+np.array([1,2])"
   ]
  },
  {
   "cell_type": "markdown",
   "id": "94989e6b-be6f-4e9a-b933-2447bbb64247",
   "metadata": {},
   "source": [
    "# Slicing in numpy"
   ]
  },
  {
   "cell_type": "markdown",
   "id": "d0dd2457-c373-42fa-bc01-9dc4db3e30b9",
   "metadata": {},
   "source": [
    "## Numpy allows to access any element of array just like the list in python using index. Also, it supports slicing similar to list like `arr_name[start:stop:step]`"
   ]
  },
  {
   "cell_type": "code",
   "execution_count": 34,
   "id": "141e9a3d-79c5-4f2c-b10f-24b42a986b34",
   "metadata": {},
   "outputs": [],
   "source": [
    "a=np.array([[2,3,5],[5,7,8],[4,9,20]])"
   ]
  },
  {
   "cell_type": "code",
   "execution_count": 35,
   "id": "96da5a70-6c13-41db-98d9-077684f5d917",
   "metadata": {},
   "outputs": [
    {
     "data": {
      "text/plain": [
       "array([[ 2,  3,  5],\n",
       "       [ 5,  7,  8],\n",
       "       [ 4,  9, 20]])"
      ]
     },
     "execution_count": 35,
     "metadata": {},
     "output_type": "execute_result"
    }
   ],
   "source": [
    "a"
   ]
  },
  {
   "cell_type": "code",
   "execution_count": 36,
   "id": "55264ccb-4cab-4533-9b1b-137c3843f502",
   "metadata": {},
   "outputs": [
    {
     "data": {
      "text/plain": [
       "array([5, 7, 8])"
      ]
     },
     "execution_count": 36,
     "metadata": {},
     "output_type": "execute_result"
    }
   ],
   "source": [
    "a[1]"
   ]
  },
  {
   "cell_type": "code",
   "execution_count": 37,
   "id": "c2a720c0-89cc-4114-bb8f-afeafb9eb00f",
   "metadata": {},
   "outputs": [
    {
     "data": {
      "text/plain": [
       "8"
      ]
     },
     "execution_count": 37,
     "metadata": {},
     "output_type": "execute_result"
    }
   ],
   "source": [
    "a[1,2]"
   ]
  },
  {
   "cell_type": "code",
   "execution_count": 38,
   "id": "13644671-13f4-495d-a944-95f263e6ef5d",
   "metadata": {},
   "outputs": [
    {
     "data": {
      "text/plain": [
       "array([5, 8])"
      ]
     },
     "execution_count": 38,
     "metadata": {},
     "output_type": "execute_result"
    }
   ],
   "source": [
    "a[0:2,2]"
   ]
  },
  {
   "cell_type": "markdown",
   "id": "33831e83-7a72-4ada-8ed5-adce6c18feec",
   "metadata": {},
   "source": [
    "## Traverse through array"
   ]
  },
  {
   "cell_type": "code",
   "execution_count": 39,
   "id": "3ec2d1a1-a669-4670-af45-d345ff10036a",
   "metadata": {},
   "outputs": [
    {
     "name": "stdout",
     "output_type": "stream",
     "text": [
      "[2 3 5]\n",
      "[5 7 8]\n",
      "[ 4  9 20]\n"
     ]
    }
   ],
   "source": [
    "for row in a:\n",
    "    print(row)"
   ]
  },
  {
   "cell_type": "code",
   "execution_count": 40,
   "id": "52f3467f-808b-4dae-9e23-4d59b2056ce8",
   "metadata": {},
   "outputs": [
    {
     "name": "stdout",
     "output_type": "stream",
     "text": [
      "2\n",
      "3\n",
      "5\n",
      "5\n",
      "7\n",
      "8\n",
      "4\n",
      "9\n",
      "20\n"
     ]
    }
   ],
   "source": [
    "for cell in a.flat:\n",
    "    print(cell)"
   ]
  },
  {
   "cell_type": "code",
   "execution_count": 41,
   "id": "cffb3e89-63b6-4fd7-97a5-63f8b5b772da",
   "metadata": {},
   "outputs": [
    {
     "data": {
      "text/plain": [
       "array([[1, 2],\n",
       "       [3, 4],\n",
       "       [5, 6]])"
      ]
     },
     "execution_count": 41,
     "metadata": {},
     "output_type": "execute_result"
    }
   ],
   "source": [
    "a = np.arange(1,7).reshape(3,2)\n",
    "a"
   ]
  },
  {
   "cell_type": "code",
   "execution_count": 42,
   "id": "a6f07c26-bcfe-4de6-a59a-6d59f5240268",
   "metadata": {},
   "outputs": [
    {
     "data": {
      "text/plain": [
       "array([[ 8,  9],\n",
       "       [10, 11],\n",
       "       [12, 13]])"
      ]
     },
     "execution_count": 42,
     "metadata": {},
     "output_type": "execute_result"
    }
   ],
   "source": [
    "b = np.arange(8,14).reshape(3,2)\n",
    "b"
   ]
  },
  {
   "cell_type": "code",
   "execution_count": 43,
   "id": "2c0c7851-4d54-4463-9bc4-00e1b29d0d32",
   "metadata": {},
   "outputs": [
    {
     "data": {
      "text/plain": [
       "array([[ 1,  2,  8,  9],\n",
       "       [ 3,  4, 10, 11],\n",
       "       [ 5,  6, 12, 13]])"
      ]
     },
     "execution_count": 43,
     "metadata": {},
     "output_type": "execute_result"
    }
   ],
   "source": [
    "np.hstack((a,b))"
   ]
  },
  {
   "cell_type": "code",
   "execution_count": 44,
   "id": "419984f9-94cc-4fad-b84e-8285b7e6aeea",
   "metadata": {},
   "outputs": [
    {
     "data": {
      "text/plain": [
       "array([[ 1,  2],\n",
       "       [ 3,  4],\n",
       "       [ 5,  6],\n",
       "       [ 8,  9],\n",
       "       [10, 11],\n",
       "       [12, 13]])"
      ]
     },
     "execution_count": 44,
     "metadata": {},
     "output_type": "execute_result"
    }
   ],
   "source": [
    "np.vstack((a,b))"
   ]
  },
  {
   "cell_type": "code",
   "execution_count": 45,
   "id": "04141f89-a516-4e51-a0cd-336542b96be9",
   "metadata": {},
   "outputs": [
    {
     "data": {
      "text/plain": [
       "array([[ 0,  1,  2,  3,  4,  5,  6,  7,  8,  9, 10, 11, 12, 13, 14, 15,\n",
       "        16, 17, 18, 19, 20, 21, 22, 23, 24],\n",
       "       [25, 26, 27, 28, 29, 30, 31, 32, 33, 34, 35, 36, 37, 38, 39, 40,\n",
       "        41, 42, 43, 44, 45, 46, 47, 48, 49]])"
      ]
     },
     "execution_count": 45,
     "metadata": {},
     "output_type": "execute_result"
    }
   ],
   "source": [
    "c = np.arange(50).reshape(2,25)\n",
    "c"
   ]
  },
  {
   "cell_type": "code",
   "execution_count": 46,
   "id": "a7695273-c2dd-4373-a082-34b34eb69cf7",
   "metadata": {},
   "outputs": [
    {
     "data": {
      "text/plain": [
       "array([[ 0,  1,  2,  3,  4,  5,  6,  7,  8,  9, 10, 11, 12, 13, 14, 15,\n",
       "        16, 17, 18, 19, 20, 21, 22, 23, 24]])"
      ]
     },
     "execution_count": 46,
     "metadata": {},
     "output_type": "execute_result"
    }
   ],
   "source": [
    "np.vsplit(c,2)[0]"
   ]
  },
  {
   "cell_type": "code",
   "execution_count": 47,
   "id": "62c09cf8-ed22-438a-8cf9-7a170728c935",
   "metadata": {},
   "outputs": [
    {
     "data": {
      "text/plain": [
       "array([[25, 26, 27, 28, 29, 30, 31, 32, 33, 34, 35, 36, 37, 38, 39, 40,\n",
       "        41, 42, 43, 44, 45, 46, 47, 48, 49]])"
      ]
     },
     "execution_count": 47,
     "metadata": {},
     "output_type": "execute_result"
    }
   ],
   "source": [
    "np.vsplit(c,2)[1]"
   ]
  },
  {
   "cell_type": "code",
   "execution_count": 48,
   "id": "5d4a4b7d-b047-4c96-bac1-a033796672d0",
   "metadata": {},
   "outputs": [
    {
     "data": {
      "text/plain": [
       "[array([[ 0,  1,  2,  3,  4],\n",
       "        [25, 26, 27, 28, 29]]),\n",
       " array([[ 5,  6,  7,  8,  9],\n",
       "        [30, 31, 32, 33, 34]]),\n",
       " array([[10, 11, 12, 13, 14],\n",
       "        [35, 36, 37, 38, 39]]),\n",
       " array([[15, 16, 17, 18, 19],\n",
       "        [40, 41, 42, 43, 44]]),\n",
       " array([[20, 21, 22, 23, 24],\n",
       "        [45, 46, 47, 48, 49]])]"
      ]
     },
     "execution_count": 48,
     "metadata": {},
     "output_type": "execute_result"
    }
   ],
   "source": [
    "np.hsplit(c,5)"
   ]
  },
  {
   "cell_type": "markdown",
   "id": "17652ab5-4b90-49b0-ae1c-dfc4b2057d12",
   "metadata": {},
   "source": [
    "## Numpy has a beautiful feature to index using boolean"
   ]
  },
  {
   "cell_type": "code",
   "execution_count": 49,
   "id": "d876e3fe-b200-4a58-b302-35b12a16f2b4",
   "metadata": {},
   "outputs": [
    {
     "data": {
      "text/plain": [
       "array([[1, 2],\n",
       "       [3, 4],\n",
       "       [5, 6]])"
      ]
     },
     "execution_count": 49,
     "metadata": {},
     "output_type": "execute_result"
    }
   ],
   "source": [
    "a"
   ]
  },
  {
   "cell_type": "code",
   "execution_count": 50,
   "id": "c4aae6c6-56b7-4822-b0e2-5464e2178b69",
   "metadata": {},
   "outputs": [],
   "source": [
    "d=a>3"
   ]
  },
  {
   "cell_type": "code",
   "execution_count": 51,
   "id": "6f1b5d0e-a87c-42f7-9d7e-6666d7a87064",
   "metadata": {},
   "outputs": [
    {
     "data": {
      "text/plain": [
       "array([[False, False],\n",
       "       [False,  True],\n",
       "       [ True,  True]])"
      ]
     },
     "execution_count": 51,
     "metadata": {},
     "output_type": "execute_result"
    }
   ],
   "source": [
    "d"
   ]
  },
  {
   "cell_type": "code",
   "execution_count": 52,
   "id": "cd9dd7db-93ee-490f-93fe-532b74e180ed",
   "metadata": {},
   "outputs": [
    {
     "data": {
      "text/plain": [
       "array([4, 5, 6])"
      ]
     },
     "execution_count": 52,
     "metadata": {},
     "output_type": "execute_result"
    }
   ],
   "source": [
    "a[d]"
   ]
  },
  {
   "cell_type": "markdown",
   "id": "fe7fe3b4-dc1d-4438-892f-614e0db174b8",
   "metadata": {},
   "source": [
    "## So what happens here, we created an array d with the boolean values where the value of array a is > 3. and we printed a[d] "
   ]
  },
  {
   "cell_type": "markdown",
   "id": "1cbcc208-97d4-47bd-8867-e882920def28",
   "metadata": {},
   "source": [
    "# Iteration in numpy using "
   ]
  },
  {
   "cell_type": "markdown",
   "id": "850e76c7-522e-4299-96a9-4c6bff05cbd9",
   "metadata": {},
   "source": [
    "### Numpy allows iterating through array in various methods. Let's understand first the normal loop approach"
   ]
  },
  {
   "cell_type": "code",
   "execution_count": 53,
   "id": "7a639cdf-bed0-4b81-81ec-be973b2a32c1",
   "metadata": {},
   "outputs": [
    {
     "data": {
      "text/plain": [
       "array([[ 0,  1,  2,  3,  4,  5],\n",
       "       [ 6,  7,  8,  9, 10, 11]])"
      ]
     },
     "execution_count": 53,
     "metadata": {},
     "output_type": "execute_result"
    }
   ],
   "source": [
    "a = np.arange(12).reshape(2,6)\n",
    "a"
   ]
  },
  {
   "cell_type": "code",
   "execution_count": 54,
   "id": "1d51827a-9684-49f2-b70b-dac9980acc47",
   "metadata": {},
   "outputs": [
    {
     "name": "stdout",
     "output_type": "stream",
     "text": [
      "[0 1 2 3 4 5]\n",
      "[ 6  7  8  9 10 11]\n"
     ]
    }
   ],
   "source": [
    "for row in a:\n",
    "    print(row)"
   ]
  },
  {
   "cell_type": "code",
   "execution_count": 55,
   "id": "9aede853-1752-41ec-a705-c0f6d8b1ceae",
   "metadata": {},
   "outputs": [
    {
     "name": "stdout",
     "output_type": "stream",
     "text": [
      "0\n",
      "1\n",
      "2\n",
      "3\n",
      "4\n",
      "5\n",
      "6\n",
      "7\n",
      "8\n",
      "9\n",
      "10\n",
      "11\n"
     ]
    }
   ],
   "source": [
    "# in this approach to print the respective values, we'll have to run two loops\n",
    "for row in a:\n",
    "    for cell in row :\n",
    "        print(cell)"
   ]
  },
  {
   "cell_type": "code",
   "execution_count": 56,
   "id": "388f5d1c-4aff-45b0-b7c6-ae42cd536484",
   "metadata": {},
   "outputs": [],
   "source": [
    "# To iterate through the loop, we can use  flatten() or ravel() which allows us to iterate through the arrays. However there are fundamental differences : \n",
    "# Ref: https://stackoverflow.com/questions/30523123/when-to-use-flat-flatiter-or-flatten\n",
    "# Ref:https://www.geeksforgeeks.org/differences-flatten-ravel-numpy/"
   ]
  },
  {
   "cell_type": "code",
   "execution_count": 57,
   "id": "a955defa-796a-44e0-a0b4-cb1f2e264563",
   "metadata": {},
   "outputs": [
    {
     "name": "stdout",
     "output_type": "stream",
     "text": [
      "0\n",
      "1\n",
      "2\n",
      "3\n",
      "4\n",
      "5\n",
      "6\n",
      "7\n",
      "8\n",
      "9\n",
      "10\n",
      "11\n"
     ]
    }
   ],
   "source": [
    "for cell in a.flatten():\n",
    "    print(cell)"
   ]
  },
  {
   "cell_type": "markdown",
   "id": "3d58c349-789a-460c-bc0e-5350dae5c18d",
   "metadata": {},
   "source": [
    "## Using [nditer](https://numpy.org/doc/stable/reference/generated/numpy.nditer.html)"
   ]
  },
  {
   "cell_type": "markdown",
   "id": "f694b3c0-e3a6-47c9-bba8-82aa9f4d404e",
   "metadata": {},
   "source": [
    "## nditer allows iteration in 2 formats : \n",
    "## 1. C order (row by row)\n",
    "## 2 Fortan order (column by column)"
   ]
  },
  {
   "cell_type": "code",
   "execution_count": 58,
   "id": "264279f1-0779-4bdd-8a72-c420daf82d05",
   "metadata": {},
   "outputs": [
    {
     "name": "stdout",
     "output_type": "stream",
     "text": [
      "0\n",
      "1\n",
      "2\n",
      "3\n",
      "4\n",
      "5\n",
      "6\n",
      "7\n",
      "8\n",
      "9\n",
      "10\n",
      "11\n"
     ]
    }
   ],
   "source": [
    "for cell in np.nditer(a, order=\"c\"):\n",
    "    print(cell)"
   ]
  },
  {
   "cell_type": "code",
   "execution_count": 59,
   "id": "dab58b1f-3f5d-4607-9f8a-542c2859b2cc",
   "metadata": {},
   "outputs": [
    {
     "name": "stdout",
     "output_type": "stream",
     "text": [
      "0\n",
      "6\n",
      "1\n",
      "7\n",
      "2\n",
      "8\n",
      "3\n",
      "9\n",
      "4\n",
      "10\n",
      "5\n",
      "11\n"
     ]
    }
   ],
   "source": [
    "for cell in np.nditer(a, order=\"f\"):\n",
    "    print(cell)"
   ]
  },
  {
   "cell_type": "markdown",
   "id": "d8405022-bec3-4327-95cf-b48273100d26",
   "metadata": {},
   "source": [
    "## nditer also allows to iterate through multiple arrays if their broadcasting is similar"
   ]
  }
 ],
 "metadata": {
  "kernelspec": {
   "display_name": "Python 3.9",
   "language": "python",
   "name": "myenv"
  },
  "language_info": {
   "codemirror_mode": {
    "name": "ipython",
    "version": 3
   },
   "file_extension": ".py",
   "mimetype": "text/x-python",
   "name": "python",
   "nbconvert_exporter": "python",
   "pygments_lexer": "ipython3",
   "version": "3.9.18"
  }
 },
 "nbformat": 4,
 "nbformat_minor": 5
}
